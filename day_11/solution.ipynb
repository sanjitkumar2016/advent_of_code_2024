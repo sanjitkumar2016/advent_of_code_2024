{
 "cells": [
  {
   "cell_type": "markdown",
   "metadata": {},
   "source": [
    "#### Part One\n",
    "\n",
    "- For each element in list, follow the rules and add to temp_list\n",
    "  1. If 0, append 1\n",
    "  2. If even digits, append left and right halves to temp_list\n",
    "  3. Else, multiply by 2024\n",
    "- Do this 25 times"
   ]
  },
  {
   "cell_type": "code",
   "execution_count": 11,
   "metadata": {},
   "outputs": [
    {
     "name": "stdout",
     "output_type": "stream",
     "text": [
      "200446\n"
     ]
    }
   ],
   "source": [
    "with open('input.txt') as f:\n",
    "    line = f.readline()\n",
    "\n",
    "def append_halves(s, temp):\n",
    "    s = str(s)\n",
    "    half = len(s) // 2\n",
    "    temp.append(int(s[:half]))\n",
    "    temp.append(int(s[half:]))\n",
    "\n",
    "state = list(map(int, line.split()))\n",
    "\n",
    "for _ in range(25):\n",
    "    temp = []\n",
    "    for s in state:\n",
    "        if s == 0:\n",
    "            temp.append(1)\n",
    "        elif len(str(s)) % 2 == 0:\n",
    "            append_halves(s, temp)\n",
    "        else:\n",
    "            temp.append(s * 2024)\n",
    "    state = temp\n",
    "\n",
    "print(len(state))"
   ]
  },
  {
   "cell_type": "markdown",
   "metadata": {},
   "source": [
    "#### Part Two\n",
    "\n",
    "- Same code will not run due to it being very slow\n",
    "- Same elements follows the same pattern and will either return two elements or one\n",
    "- Order doesn't matter and elements can be calculated at any time\n",
    "- Instead of a list, we can use a dict that has the counts of every value\n",
    "- For each value, calculate what should happen, and update the dict for all the values at once "
   ]
  },
  {
   "cell_type": "code",
   "execution_count": 20,
   "metadata": {},
   "outputs": [
    {
     "name": "stdout",
     "output_type": "stream",
     "text": [
      "238317474993392\n"
     ]
    }
   ],
   "source": [
    "from collections import defaultdict\n",
    "\n",
    "with open('input.txt') as f:\n",
    "    line = f.readline()\n",
    "\n",
    "def calc_halves(s):\n",
    "    s = str(s)\n",
    "    half = len(s) // 2\n",
    "    return int(s[:half]), int(s[half:])\n",
    "\n",
    "state = list(map(int, line.split()))\n",
    "counts = defaultdict(int, {s: 1 for s in state})\n",
    "\n",
    "for _ in range(75):\n",
    "    temp = defaultdict(int)\n",
    "    for num, count in counts.items():\n",
    "        if num == 0:\n",
    "            temp[1] += count\n",
    "        elif len(str(num)) % 2 == 0:\n",
    "            a, b = calc_halves(num)\n",
    "            temp[a] += count\n",
    "            temp[b] += count\n",
    "        else:\n",
    "            temp[num * 2024] += count\n",
    "        counts = temp\n",
    "\n",
    "print(sum(counts.values()))"
   ]
  }
 ],
 "metadata": {
  "kernelspec": {
   "display_name": "Python 3",
   "language": "python",
   "name": "python3"
  },
  "language_info": {
   "codemirror_mode": {
    "name": "ipython",
    "version": 3
   },
   "file_extension": ".py",
   "mimetype": "text/x-python",
   "name": "python",
   "nbconvert_exporter": "python",
   "pygments_lexer": "ipython3",
   "version": "3.13.0"
  }
 },
 "nbformat": 4,
 "nbformat_minor": 2
}
