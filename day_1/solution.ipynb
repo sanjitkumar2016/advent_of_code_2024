{
 "cells": [
  {
   "cell_type": "markdown",
   "metadata": {},
   "source": [
    "#### Part One\n",
    "\n",
    "- Read each line\n",
    "- Split and cast to int\n",
    "- Add left num to left_list and right num to right_list\n",
    "- Sort each list\n",
    "- Zip together and calculate differences\n",
    "- Keep a running total of the diffs"
   ]
  },
  {
   "cell_type": "code",
   "execution_count": 1,
   "metadata": {},
   "outputs": [
    {
     "data": {
      "text/plain": [
       "2344935"
      ]
     },
     "execution_count": 1,
     "metadata": {},
     "output_type": "execute_result"
    }
   ],
   "source": [
    "left_side = []\n",
    "right_side = []\n",
    "\n",
    "with open('input.txt', 'r') as file:\n",
    "    for line in file:\n",
    "        left, right = line.strip().split()\n",
    "        left_side.append(int(left))\n",
    "        right_side.append(int(right))\n",
    "\n",
    "total = 0\n",
    "for left, right in zip(sorted(left_side), sorted(right_side)):\n",
    "    total += abs(left - right)\n",
    "\n",
    "total"
   ]
  },
  {
   "cell_type": "markdown",
   "metadata": {},
   "source": [
    "#### Part Two\n",
    "\n",
    "- Create a counter for the left and right sides\n",
    "- For each value in the left side, check the right side counter\n",
    "- Add the running total by (num * right_count * left_count)"
   ]
  },
  {
   "cell_type": "code",
   "execution_count": 2,
   "metadata": {},
   "outputs": [
    {
     "data": {
      "text/plain": [
       "27647262"
      ]
     },
     "execution_count": 2,
     "metadata": {},
     "output_type": "execute_result"
    }
   ],
   "source": [
    "from collections import Counter\n",
    "\n",
    "left_counter = Counter(left_side)\n",
    "right_counter = Counter(right_side)\n",
    "total = 0\n",
    "\n",
    "for left in left_counter:\n",
    "    total += left * left_counter[left] * right_counter[left]\n",
    "\n",
    "total"
   ]
  }
 ],
 "metadata": {
  "kernelspec": {
   "display_name": "base",
   "language": "python",
   "name": "python3"
  },
  "language_info": {
   "codemirror_mode": {
    "name": "ipython",
    "version": 3
   },
   "file_extension": ".py",
   "mimetype": "text/x-python",
   "name": "python",
   "nbconvert_exporter": "python",
   "pygments_lexer": "ipython3",
   "version": "3.11.5"
  }
 },
 "nbformat": 4,
 "nbformat_minor": 2
}
