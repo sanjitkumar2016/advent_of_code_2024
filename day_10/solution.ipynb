{
 "cells": [
  {
   "cell_type": "markdown",
   "metadata": {},
   "source": [
    "#### Part One\n",
    "\n",
    "- DFS for every 0 element\n",
    "- Make sure it increments by one\n",
    "- If the current node is a 9, check if the row/col is in the set\n",
    "- If it's new, add to set and increment the total\n"
   ]
  },
  {
   "cell_type": "code",
   "execution_count": 17,
   "metadata": {},
   "outputs": [
    {
     "data": {
      "text/plain": [
       "607"
      ]
     },
     "execution_count": 17,
     "metadata": {},
     "output_type": "execute_result"
    }
   ],
   "source": [
    "with open('input.txt') as f:\n",
    "    lines = f.readlines()\n",
    "\n",
    "grid = []\n",
    "for line in lines:\n",
    "    grid.append(list(map(int, list(line.strip()))))\n",
    "\n",
    "rows, cols = len(grid), len(grid[0])\n",
    "\n",
    "def is_valid(x, y):\n",
    "    global rows, cols\n",
    "    return 0 <= x < rows and 0 <= y < cols\n",
    "\n",
    "directions = [(0, 1), (0, -1), (1, 0), (-1, 0)]\n",
    "visited = set()\n",
    "total = 0\n",
    "\n",
    "def dfs(row, col, prev_val):\n",
    "    global total\n",
    "    if not is_valid(row, col):\n",
    "        return\n",
    "    \n",
    "    if grid[row][col] != prev_val + 1:\n",
    "        return\n",
    "    \n",
    "    if grid[row][col] == 9:\n",
    "        if (row, col) in visited:\n",
    "            return\n",
    "        visited.add((row, col))\n",
    "        total += 1\n",
    "        return\n",
    "    \n",
    "    for dx, dy in directions:\n",
    "        dfs(row + dx, col + dy, prev_val + 1)\n",
    "\n",
    "for i in range(rows):\n",
    "    for j in range(cols):\n",
    "        if grid[i][j] == 0:\n",
    "            dfs(i, j, -1)\n",
    "        visited = set()\n",
    "\n",
    "total"
   ]
  },
  {
   "cell_type": "markdown",
   "metadata": {},
   "source": [
    "#### Part Two\n",
    "\n",
    "- No need for the visited set, just increment total in the DFS"
   ]
  },
  {
   "cell_type": "code",
   "execution_count": 18,
   "metadata": {},
   "outputs": [
    {
     "data": {
      "text/plain": [
       "1384"
      ]
     },
     "execution_count": 18,
     "metadata": {},
     "output_type": "execute_result"
    }
   ],
   "source": [
    "with open('input.txt') as f:\n",
    "    lines = f.readlines()\n",
    "\n",
    "grid = []\n",
    "for line in lines:\n",
    "    grid.append(list(map(int, list(line.strip()))))\n",
    "\n",
    "rows, cols = len(grid), len(grid[0])\n",
    "\n",
    "def is_valid(x, y):\n",
    "    global rows, cols\n",
    "    return 0 <= x < rows and 0 <= y < cols\n",
    "\n",
    "directions = [(0, 1), (0, -1), (1, 0), (-1, 0)]\n",
    "total = 0\n",
    "\n",
    "def dfs(row, col, prev_val):\n",
    "    global total\n",
    "    if not is_valid(row, col):\n",
    "        return\n",
    "    \n",
    "    if grid[row][col] != prev_val + 1:\n",
    "        return\n",
    "    \n",
    "    if grid[row][col] == 9:\n",
    "        total += 1\n",
    "        return\n",
    "    \n",
    "    for dx, dy in directions:\n",
    "        dfs(row + dx, col + dy, prev_val + 1)\n",
    "\n",
    "for i in range(rows):\n",
    "    for j in range(cols):\n",
    "        if grid[i][j] == 0:\n",
    "            dfs(i, j, -1)\n",
    "\n",
    "total"
   ]
  }
 ],
 "metadata": {
  "kernelspec": {
   "display_name": "Python 3",
   "language": "python",
   "name": "python3"
  },
  "language_info": {
   "codemirror_mode": {
    "name": "ipython",
    "version": 3
   },
   "file_extension": ".py",
   "mimetype": "text/x-python",
   "name": "python",
   "nbconvert_exporter": "python",
   "pygments_lexer": "ipython3",
   "version": "3.13.0"
  }
 },
 "nbformat": 4,
 "nbformat_minor": 2
}
