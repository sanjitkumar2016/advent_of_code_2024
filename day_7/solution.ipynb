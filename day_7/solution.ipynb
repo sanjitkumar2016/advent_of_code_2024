{
 "cells": [
  {
   "cell_type": "markdown",
   "metadata": {},
   "source": [
    "#### Part One\n",
    "\n",
    "- Recursively search for an equation that might work\n",
    "- Keep a running total of the product/sum combo\n",
    "- If the total > target, break\n",
    "- If no more numbers, break\n",
    "- If total == target, break and add total to answer"
   ]
  },
  {
   "cell_type": "code",
   "execution_count": 13,
   "metadata": {},
   "outputs": [
    {
     "data": {
      "text/plain": [
       "28730327770375"
      ]
     },
     "execution_count": 13,
     "metadata": {},
     "output_type": "execute_result"
    }
   ],
   "source": [
    "def check_equation(total, target, nums):\n",
    "    if total == target:\n",
    "        return True\n",
    "    if not nums:\n",
    "        return False\n",
    "    if total > target:\n",
    "        return False\n",
    "    return check_equation(total + nums[0], target, nums[1:]) or check_equation(total * nums[0], target, nums[1:])\n",
    "\n",
    "with open('input.txt') as f:\n",
    "    lines = f.readlines()\n",
    "\n",
    "output = 0\n",
    "for line in lines:\n",
    "    nums = line.split()\n",
    "    target = int(nums[0][:-1])\n",
    "    total = int(nums[1])\n",
    "    nums = [int(x) for x in nums[2:]]\n",
    "\n",
    "    if check_equation(total, target, nums):\n",
    "        output += target\n",
    "\n",
    "output"
   ]
  },
  {
   "cell_type": "markdown",
   "metadata": {},
   "source": [
    "#### Part Two\n",
    "\n",
    "- Add a new recursive possibility of concatenation"
   ]
  },
  {
   "cell_type": "code",
   "execution_count": 14,
   "metadata": {},
   "outputs": [
    {
     "data": {
      "text/plain": [
       "424977609625985"
      ]
     },
     "execution_count": 14,
     "metadata": {},
     "output_type": "execute_result"
    }
   ],
   "source": [
    "def check_equation(total, target, nums):\n",
    "    if total == target:\n",
    "        return True\n",
    "    if not nums:\n",
    "        return False\n",
    "    if total > target:\n",
    "        return False\n",
    "    cat = int(str(total) + str(nums[0]))\n",
    "    return check_equation(total + nums[0], target, nums[1:]) or check_equation(total * nums[0], target, nums[1:]) or check_equation(cat, target, nums[1:])\n",
    "\n",
    "with open('input.txt') as f:\n",
    "    lines = f.readlines()\n",
    "\n",
    "output = 0\n",
    "for line in lines:\n",
    "    nums = line.split()\n",
    "    target = int(nums[0][:-1])\n",
    "    total = int(nums[1])\n",
    "    nums = [int(x) for x in nums[2:]]\n",
    "\n",
    "    if check_equation(total, target, nums):\n",
    "        output += target\n",
    "\n",
    "output"
   ]
  }
 ],
 "metadata": {
  "kernelspec": {
   "display_name": "Python 3",
   "language": "python",
   "name": "python3"
  },
  "language_info": {
   "codemirror_mode": {
    "name": "ipython",
    "version": 3
   },
   "file_extension": ".py",
   "mimetype": "text/x-python",
   "name": "python",
   "nbconvert_exporter": "python",
   "pygments_lexer": "ipython3",
   "version": "3.13.0"
  }
 },
 "nbformat": 4,
 "nbformat_minor": 2
}
