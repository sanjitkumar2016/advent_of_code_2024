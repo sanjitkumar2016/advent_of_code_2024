{
 "cells": [
  {
   "cell_type": "markdown",
   "metadata": {},
   "source": [
    "#### Part One\n",
    "\n",
    "- Read each line\n",
    "- Split each value and cast to int\n",
    "- Use np.diff method to get each incremental difference\n",
    "- Check that max and abs(min) <= 3\n",
    "  - Increment safe if so"
   ]
  },
  {
   "cell_type": "code",
   "execution_count": 24,
   "metadata": {},
   "outputs": [
    {
     "data": {
      "text/plain": [
       "242"
      ]
     },
     "execution_count": 24,
     "metadata": {},
     "output_type": "execute_result"
    }
   ],
   "source": [
    "import numpy as np\n",
    "\n",
    "safe = 0\n",
    "\n",
    "with open('input.txt', 'r') as file:\n",
    "    for line in file:\n",
    "        diffs = np.diff(list(map(int, line.strip().split())))\n",
    "        if max(diffs) <= 3 and min(diffs) > 0:\n",
    "            safe += 1\n",
    "        elif min(diffs) >= -3 and max(diffs) < 0:\n",
    "            safe += 1\n",
    "\n",
    "safe"
   ]
  },
  {
   "cell_type": "markdown",
   "metadata": {},
   "source": [
    "#### Part Two\n",
    "\n",
    "- Use same methology as before\n",
    "- Use a for loop to remove each value of line to recalculate diffs\n",
    "- This is a brute force method, but our data is small enough for it to work well"
   ]
  },
  {
   "cell_type": "code",
   "execution_count": 16,
   "metadata": {},
   "outputs": [],
   "source": [
    "def check_safety(diffs):\n",
    "    if max(diffs) <= 3 and min(diffs) > 0:\n",
    "        return True\n",
    "    elif min(diffs) >= -3 and max(diffs) < 0:\n",
    "        return True\n",
    "    return False"
   ]
  },
  {
   "cell_type": "code",
   "execution_count": 27,
   "metadata": {},
   "outputs": [
    {
     "data": {
      "text/plain": [
       "311"
      ]
     },
     "execution_count": 27,
     "metadata": {},
     "output_type": "execute_result"
    }
   ],
   "source": [
    "import numpy as np\n",
    "\n",
    "safe = 0\n",
    "\n",
    "with open('input.txt', 'r') as file:\n",
    "    for line in file:\n",
    "        vals = list(map(int, line.strip().split()))\n",
    "        diffs = np.diff(vals)\n",
    "        if check_safety(diffs):\n",
    "            safe += 1\n",
    "        else:\n",
    "            for i in range(len(vals)):\n",
    "                diffs = np.diff(np.delete(vals, i))\n",
    "                if check_safety(diffs):\n",
    "                    safe += 1\n",
    "                    break\n",
    "\n",
    "safe"
   ]
  }
 ],
 "metadata": {
  "kernelspec": {
   "display_name": "base",
   "language": "python",
   "name": "python3"
  },
  "language_info": {
   "codemirror_mode": {
    "name": "ipython",
    "version": 3
   },
   "file_extension": ".py",
   "mimetype": "text/x-python",
   "name": "python",
   "nbconvert_exporter": "python",
   "pygments_lexer": "ipython3",
   "version": "3.11.5"
  }
 },
 "nbformat": 4,
 "nbformat_minor": 2
}
