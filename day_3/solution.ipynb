{
 "cells": [
  {
   "cell_type": "markdown",
   "metadata": {},
   "source": [
    "#### Part One\n",
    "\n",
    "- Use regex to just look for mul(digits,digits)\n",
    "- Convert the digit strings to ints\n",
    "- Multiply and sum all the products"
   ]
  },
  {
   "cell_type": "code",
   "execution_count": null,
   "metadata": {},
   "outputs": [
    {
     "data": {
      "text/plain": [
       "192767529"
      ]
     },
     "execution_count": 6,
     "metadata": {},
     "output_type": "execute_result"
    }
   ],
   "source": [
    "import re\n",
    "\n",
    "with open('input.txt') as f:\n",
    "    lines = f.readlines()\n",
    "\n",
    "pattern = re.compile(r'mul\\((\\d+),(\\d+)\\)')\n",
    "matches = []\n",
    "\n",
    "for line in lines:\n",
    "    matches.extend(pattern.findall(line))\n",
    "\n",
    "total = 0\n",
    "for a, b in matches:\n",
    "    total += int(a) * int(b)\n",
    "\n",
    "total"
   ]
  },
  {
   "cell_type": "markdown",
   "metadata": {},
   "source": [
    "#### Part Two\n",
    "\n",
    "- We need to look for mul(digits,digits), do(), and don't()\n",
    "- Order must be preserved\n",
    "- Create a flag for whether we add to the total\n",
    "- For each match\n",
    "  - If it is do(), turn on the flag and continue\n",
    "  - If it is don't(), turn off the flag and continue\n",
    "  - If it is numbers, check the flag and add to total if necessary"
   ]
  },
  {
   "cell_type": "code",
   "execution_count": 12,
   "metadata": {},
   "outputs": [
    {
     "data": {
      "text/plain": [
       "104083373"
      ]
     },
     "execution_count": 12,
     "metadata": {},
     "output_type": "execute_result"
    }
   ],
   "source": [
    "import re\n",
    "\n",
    "with open('input.txt') as f:\n",
    "    lines = f.readlines()\n",
    "\n",
    "pattern = re.compile(r'mul\\((\\d+),(\\d+)\\)|(do\\(\\))|(don\\'t\\(\\))')\n",
    "matches = []\n",
    "\n",
    "for line in lines:\n",
    "    matches.extend(pattern.findall(line))\n",
    "\n",
    "total = 0\n",
    "flag = True\n",
    "for a, b, do, dont in matches:\n",
    "    if do:\n",
    "        flag = True\n",
    "    elif dont:\n",
    "        flag = False\n",
    "    else:\n",
    "        if flag:\n",
    "            total += int(a) * int(b)\n",
    "\n",
    "total"
   ]
  }
 ],
 "metadata": {
  "kernelspec": {
   "display_name": "base",
   "language": "python",
   "name": "python3"
  },
  "language_info": {
   "codemirror_mode": {
    "name": "ipython",
    "version": 3
   },
   "file_extension": ".py",
   "mimetype": "text/x-python",
   "name": "python",
   "nbconvert_exporter": "python",
   "pygments_lexer": "ipython3",
   "version": "3.11.5"
  }
 },
 "nbformat": 4,
 "nbformat_minor": 2
}
