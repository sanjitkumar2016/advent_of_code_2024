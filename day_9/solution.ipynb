{
 "cells": [
  {
   "cell_type": "markdown",
   "metadata": {},
   "source": [
    "#### Part One\n",
    "\n",
    "- Create the original file block from the condensed map\n",
    "- For each number, if the index is odd, extend by period * number\n",
    "- If even, extend by (index // 2) * number\n",
    "- To find the checksum, have a left and right pointer\n",
    "- Iterate the left pointer, and add (left_index * left_number) to the checksum\n",
    "- If the left pointer is a period, use the right pointer to add (left_index * right_number) to the checksum\n",
    "- Decrement right pointer until it is not a period\n",
    "- When left > right, break"
   ]
  },
  {
   "cell_type": "code",
   "execution_count": 42,
   "metadata": {},
   "outputs": [
    {
     "data": {
      "text/plain": [
       "6337921897505"
      ]
     },
     "execution_count": 42,
     "metadata": {},
     "output_type": "execute_result"
    }
   ],
   "source": [
    "with open('input.txt') as f:\n",
    "    line = f.readline().strip()\n",
    "\n",
    "block = []\n",
    "\n",
    "for i, num in enumerate(line):\n",
    "    if i % 2 == 0:\n",
    "        block.extend([i // 2] * int(num))\n",
    "    else:\n",
    "        block.extend(['.'] * int(num))\n",
    "\n",
    "checksum = 0\n",
    "left = 0\n",
    "right = len(block) - 1\n",
    "while left <= right:\n",
    "    if block[left] != '.':\n",
    "        checksum += block[left] * left\n",
    "        left += 1\n",
    "    else:\n",
    "        checksum += block[right] * left\n",
    "        right -= 1\n",
    "        while block[right] == '.':\n",
    "            right -= 1\n",
    "        left += 1\n",
    "\n",
    "checksum"
   ]
  },
  {
   "cell_type": "markdown",
   "metadata": {},
   "source": [
    "#### Part Two\n",
    "\n",
    "- Convert the input to a list of tuples of (value, repeats)\n",
    "- Calue is either the index // 2 or '.', and repeats is the number itself\n",
    "- Iterate using a left and right pointer on the list of tuples\n",
    "- If left value == '.', and if right repeats <= left repeats,\n",
    "  - Insert ('.', left repeats - right repeats) if not zero\n",
    "  - Left value, left repeats  = right value, right repeats\n",
    "  - Right value, right repeats = '.', right repeats\n",
    "- For each tuple in the updated list, add to checksum: value * index + (i for i in range(repeats))"
   ]
  },
  {
   "cell_type": "code",
   "execution_count": 43,
   "metadata": {},
   "outputs": [
    {
     "data": {
      "text/plain": [
       "6362722604045"
      ]
     },
     "execution_count": 43,
     "metadata": {},
     "output_type": "execute_result"
    }
   ],
   "source": [
    "with open('input.txt') as f:\n",
    "    line = f.readline().strip()\n",
    "\n",
    "block_list = []\n",
    "\n",
    "for i, num in enumerate(line):\n",
    "    if i % 2 == 0:\n",
    "        block_list.append((i // 2, int(num)))\n",
    "    else:\n",
    "        block_list.append(('.', int(num)))\n",
    "\n",
    "left = 0\n",
    "right = len(block_list) - 1\n",
    "while right >= 0:\n",
    "    while left <= right:\n",
    "        left_value, left_repeats = block_list[left]\n",
    "        if left_value != '.':\n",
    "            left += 1\n",
    "            continue\n",
    "\n",
    "        right_value, right_repeats = block_list[right]\n",
    "        if right_repeats > left_repeats:\n",
    "            left += 1\n",
    "            continue\n",
    "        \n",
    "        block_list[left] = (right_value, right_repeats)\n",
    "        block_list[right] = (left_value, right_repeats)\n",
    "        if right_repeats != left_repeats:\n",
    "            block_list.insert(left + 1, ('.', left_repeats - right_repeats))\n",
    "            right += 1\n",
    "        break\n",
    "    left = 0\n",
    "    right -= 1\n",
    "    while block_list[right][0] == '.' and right >= 0:\n",
    "        right -= 1\n",
    "\n",
    "checksum = 0\n",
    "i = 0\n",
    "for value, repeats in block_list:\n",
    "    if value != '.':\n",
    "        for r in range(repeats):\n",
    "            checksum += value * (i + r)\n",
    "    i += repeats\n",
    "\n",
    "checksum"
   ]
  }
 ],
 "metadata": {
  "kernelspec": {
   "display_name": "Python 3",
   "language": "python",
   "name": "python3"
  },
  "language_info": {
   "codemirror_mode": {
    "name": "ipython",
    "version": 3
   },
   "file_extension": ".py",
   "mimetype": "text/x-python",
   "name": "python",
   "nbconvert_exporter": "python",
   "pygments_lexer": "ipython3",
   "version": "3.13.0"
  }
 },
 "nbformat": 4,
 "nbformat_minor": 2
}
