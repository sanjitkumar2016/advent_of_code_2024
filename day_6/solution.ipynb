{
 "cells": [
  {
   "cell_type": "markdown",
   "metadata": {},
   "source": [
    "#### Part One\n",
    "\n",
    "- We have to traverse a grid and note down all the places we went\n",
    "- If we see a '#' ahead of us, turn right\n",
    "- If we see a '.', go forward\n",
    "- If we go out of bounds, we are done"
   ]
  },
  {
   "cell_type": "code",
   "execution_count": 64,
   "metadata": {},
   "outputs": [
    {
     "data": {
      "text/plain": [
       "4903"
      ]
     },
     "execution_count": 64,
     "metadata": {},
     "output_type": "execute_result"
    }
   ],
   "source": [
    "# Read input\n",
    "with open('input.txt') as f:\n",
    "    lines = f.readlines()\n",
    "\n",
    "# Create the grid\n",
    "grid = []\n",
    "for row, line in enumerate(lines):\n",
    "    if '^' in line:\n",
    "        start_row = row\n",
    "        start_col = line.index('^')\n",
    "    grid.append(list(line.strip()))\n",
    "\n",
    "rows, cols = len(grid), len(grid[0])\n",
    "\n",
    "directions = [(-1, 0), (0, 1), (1, 0), (0, -1)]\n",
    "curr_dir = 0\n",
    "\n",
    "def is_valid(row, col):\n",
    "    return 0 <= row < rows and 0 <= col < cols\n",
    "\n",
    "visited = set()\n",
    "\n",
    "row, col = start_row, start_col\n",
    "while True:\n",
    "    visited.add((row, col))\n",
    "    next_row = row + directions[curr_dir][0]\n",
    "    next_col = col + directions[curr_dir][1]\n",
    "    if not is_valid(next_row, next_col):\n",
    "        break\n",
    "    if grid[next_row][next_col] == '#':\n",
    "        curr_dir = (curr_dir + 1) % 4\n",
    "    row += directions[curr_dir][0]\n",
    "    col += directions[curr_dir][1]\n",
    "\n",
    "\n",
    "len(visited)"
   ]
  },
  {
   "cell_type": "markdown",
   "metadata": {},
   "source": [
    "#### Part Two\n",
    "\n",
    "- For every node we visited in part 1, let's try putting an obstacle and see if a loop occurs\n",
    "- While we traverse, we should leave a trail of the directions we've went while passing that element\n",
    "- If our current cell contains a trail of us going in our same direction, then we are in a loop\n",
    "- Add one loop to the counter!"
   ]
  },
  {
   "cell_type": "code",
   "execution_count": 65,
   "metadata": {},
   "outputs": [
    {
     "data": {
      "text/plain": [
       "1911"
      ]
     },
     "execution_count": 65,
     "metadata": {},
     "output_type": "execute_result"
    }
   ],
   "source": [
    "from pprint import pprint\n",
    "\n",
    "# Read input\n",
    "with open('input.txt') as f:\n",
    "    lines = f.readlines()\n",
    "\n",
    "# Create the grid\n",
    "grid = []\n",
    "for row, line in enumerate(lines):\n",
    "    if '^' in line:\n",
    "        start_row = row\n",
    "        start_col = line.index('^')\n",
    "    grid.append(list(line.strip()))\n",
    "\n",
    "rows, cols = len(grid), len(grid[0])\n",
    "\n",
    "from copy import deepcopy\n",
    "grid_orig = grid\n",
    "\n",
    "def is_valid(row, col):\n",
    "    return 0 <= row < rows and 0 <= col < cols\n",
    "\n",
    "directions = [(-1, 0), (0, 1), (1, 0), (0, -1)]\n",
    "loops = 0\n",
    "\n",
    "for r, c in visited:\n",
    "    grid = deepcopy(grid_orig)\n",
    "    grid[r][c] = '#'\n",
    "    curr_dir = 0\n",
    "    row, col = start_row, start_col\n",
    "\n",
    "    while True:\n",
    "        if grid[row][col] == '#':\n",
    "            pass\n",
    "        elif grid[row][col] in ['.', '^']:\n",
    "            grid[row][col] = [curr_dir]\n",
    "        elif curr_dir in list(grid[row][col]):\n",
    "            loops += 1\n",
    "            break\n",
    "        else:\n",
    "            grid[row][col].append(curr_dir)\n",
    "        \n",
    "        next_row = row + directions[curr_dir][0]\n",
    "        next_col = col + directions[curr_dir][1]\n",
    "        if not is_valid(next_row, next_col):\n",
    "            break\n",
    "        next_dir = (curr_dir + 1) % 4\n",
    "        if grid[next_row][next_col] == '#':\n",
    "            curr_dir = next_dir\n",
    "            continue\n",
    "\n",
    "        row += directions[curr_dir][0]\n",
    "        col += directions[curr_dir][1]\n",
    "\n",
    "loops"
   ]
  }
 ],
 "metadata": {
  "kernelspec": {
   "display_name": "Python 3",
   "language": "python",
   "name": "python3"
  },
  "language_info": {
   "codemirror_mode": {
    "name": "ipython",
    "version": 3
   },
   "file_extension": ".py",
   "mimetype": "text/x-python",
   "name": "python",
   "nbconvert_exporter": "python",
   "pygments_lexer": "ipython3",
   "version": "3.13.0"
  }
 },
 "nbformat": 4,
 "nbformat_minor": 2
}
