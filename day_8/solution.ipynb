{
 "cells": [
  {
   "cell_type": "markdown",
   "metadata": {},
   "source": [
    "#### Part One\n",
    "\n",
    "- Create a mapping of every non-period symbol and their locations\n",
    "- For every pair of locations, calculate a + (a - b) or 2a - b to get one side\n",
    "- Repeat this for every coordinate\n",
    "- Update total if the new antinode coordinate is within grid bounds"
   ]
  },
  {
   "cell_type": "code",
   "execution_count": 15,
   "metadata": {},
   "outputs": [
    {
     "data": {
      "text/plain": [
       "14"
      ]
     },
     "execution_count": 15,
     "metadata": {},
     "output_type": "execute_result"
    }
   ],
   "source": [
    "from collections import defaultdict\n",
    "from itertools import combinations\n",
    "\n",
    "with open('input.txt') as f:\n",
    "    lines = f.readlines()\n",
    "\n",
    "grid = [list(line.strip()) for line in lines]\n",
    "\n",
    "rows, cols = len(grid), len(grid[0])\n",
    "\n",
    "def is_valid(x, y):\n",
    "    return 0 <= x < rows and 0 <= y < cols\n",
    "\n",
    "symbols_map = defaultdict(list)\n",
    "\n",
    "for row in range(rows):\n",
    "    for col in range(cols):\n",
    "        if grid[row][col] != '.':\n",
    "            symbols_map[grid[row][col]].append((row, col))\n",
    "\n",
    "output = 0\n",
    "for coords in symbols_map.values():\n",
    "    for (r1, c1), (r2, c2) in combinations(coords, 2):\n",
    "        r0 = 2 * r1 - r2\n",
    "        c0 = 2 * c1 - c2\n",
    "        if is_valid(r0, c0) and grid[r0][c0] != '#':\n",
    "            grid[r0][c0] = '#'\n",
    "            output += 1\n",
    "\n",
    "        r3 = 2 * r2 - r1\n",
    "        c3 = 2 * c2 - c1\n",
    "        if is_valid(r3, c3) and grid[r3][c3] != '#':\n",
    "            grid[r3][c3] = '#'\n",
    "            output += 1\n",
    "    \n",
    "output"
   ]
  },
  {
   "cell_type": "markdown",
   "metadata": {},
   "source": [
    "#### Part Two\n",
    "\n",
    "- Use a while is_valid loop to check for every possibility of the antinodes in the grid\n",
    "- Separate out a + (a - b), so you can just keep adding (a - b) to get the next coord"
   ]
  },
  {
   "cell_type": "code",
   "execution_count": 18,
   "metadata": {},
   "outputs": [
    {
     "data": {
      "text/plain": [
       "34"
      ]
     },
     "execution_count": 18,
     "metadata": {},
     "output_type": "execute_result"
    }
   ],
   "source": [
    "from collections import defaultdict\n",
    "from itertools import combinations\n",
    "\n",
    "with open('input.txt') as f:\n",
    "    lines = f.readlines()\n",
    "\n",
    "grid = [list(line.strip()) for line in lines]\n",
    "\n",
    "rows, cols = len(grid), len(grid[0])\n",
    "\n",
    "def is_valid(x, y):\n",
    "    return 0 <= x < rows and 0 <= y < cols\n",
    "\n",
    "symbols_map = defaultdict(list)\n",
    "\n",
    "for row in range(rows):\n",
    "    for col in range(cols):\n",
    "        if grid[row][col] != '.':\n",
    "            symbols_map[grid[row][col]].append((row, col))\n",
    "\n",
    "output = 0\n",
    "for coords in symbols_map.values():\n",
    "    for (r1, c1), (r2, c2) in combinations(coords, 2):\n",
    "        r0 = r1\n",
    "        c0 = c1\n",
    "        while is_valid(r0, c0):\n",
    "            if grid[r0][c0] != '#':\n",
    "                grid[r0][c0] = '#'\n",
    "                output += 1\n",
    "            r0 += r1 - r2\n",
    "            c0 += c1 - c2\n",
    "\n",
    "        r3 = r2\n",
    "        c3 = c2\n",
    "        while is_valid(r3, c3):\n",
    "            if grid[r3][c3] != '#':\n",
    "                grid[r3][c3] = '#'\n",
    "                output += 1\n",
    "            r3 += r2 - r1\n",
    "            c3 += c2 - c1\n",
    "    \n",
    "output"
   ]
  }
 ],
 "metadata": {
  "kernelspec": {
   "display_name": "base",
   "language": "python",
   "name": "python3"
  },
  "language_info": {
   "codemirror_mode": {
    "name": "ipython",
    "version": 3
   },
   "file_extension": ".py",
   "mimetype": "text/x-python",
   "name": "python",
   "nbconvert_exporter": "python",
   "pygments_lexer": "ipython3",
   "version": "3.11.5"
  }
 },
 "nbformat": 4,
 "nbformat_minor": 2
}
