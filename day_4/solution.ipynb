{
 "cells": [
  {
   "cell_type": "markdown",
   "metadata": {},
   "source": [
    "#### Part One\n",
    "\n",
    "- This is a leetcode style question that I thought was an excellent use for AI!\n",
    "- Prompt: \"create a word search solver in Python that finds every instance of the word XMAS in all 8 directions\""
   ]
  },
  {
   "cell_type": "code",
   "execution_count": 24,
   "metadata": {},
   "outputs": [
    {
     "name": "stdout",
     "output_type": "stream",
     "text": [
      "18\n"
     ]
    }
   ],
   "source": [
    "def search_word(grid, word):\n",
    "    rows = len(grid)\n",
    "    cols = len(grid[0])\n",
    "    word_len = len(word)\n",
    "    directions = [(-1, 0), (1, 0), (0, -1), (0, 1), (-1, -1), (-1, 1), (1, -1), (1, 1)]\n",
    "    found_positions = []\n",
    "\n",
    "    def is_valid(x, y):\n",
    "        return 0 <= x < rows and 0 <= y < cols\n",
    "\n",
    "    def search_from(x, y, dx, dy):\n",
    "        for i in range(word_len):\n",
    "            nx, ny = x + i * dx, y + i * dy\n",
    "            if not is_valid(nx, ny) or grid[nx][ny] != word[i]:\n",
    "                return False\n",
    "        return True\n",
    "\n",
    "    for r in range(rows):\n",
    "        for c in range(cols):\n",
    "            if grid[r][c] == word[0]:\n",
    "                for dx, dy in directions:\n",
    "                    if search_from(r, c, dx, dy):\n",
    "                        found_positions.append((r, c, dx, dy))\n",
    "\n",
    "    return found_positions\n",
    "\n",
    "# Example usage\n",
    "grid = [\n",
    "    list(\"MMMSXXMASM\"),\n",
    "    list(\"MSAMXMSMSA\"),\n",
    "    list(\"AMXSXMAAMM\"),\n",
    "    list(\"MSAMASMSMX\"),\n",
    "    list(\"XMASAMXAMM\"),\n",
    "    list(\"XXAMMXXAMA\"),\n",
    "    list(\"SMSMSASXSS\"),\n",
    "    list(\"SAXAMASAAA\"),\n",
    "    list(\"MAMMMXMMMM\"),\n",
    "    list(\"MXMXAXMASX\")\n",
    "]\n",
    "\n",
    "word = \"XMAS\"\n",
    "positions = search_word(grid, word)\n",
    "print(len(positions))"
   ]
  },
  {
   "cell_type": "code",
   "execution_count": 25,
   "metadata": {},
   "outputs": [
    {
     "name": "stdout",
     "output_type": "stream",
     "text": [
      "2613\n"
     ]
    }
   ],
   "source": [
    "with open('input.txt') as f:\n",
    "    lines = f.readlines()\n",
    "    \n",
    "grid = []\n",
    "for line in lines:\n",
    "    grid.append(list(line.strip()))\n",
    "\n",
    "word = \"XMAS\"\n",
    "positions = search_word(grid, word)\n",
    "print(len(positions))\n"
   ]
  },
  {
   "cell_type": "markdown",
   "metadata": {},
   "source": [
    "#### Part Two\n",
    "\n",
    "- We now want to see if the middle letter 'A' is used for two words\n",
    "- We also will only be searching diagonals"
   ]
  },
  {
   "cell_type": "code",
   "execution_count": 26,
   "metadata": {},
   "outputs": [
    {
     "name": "stdout",
     "output_type": "stream",
     "text": [
      "[(1, 2), (2, 6), (2, 6), (1, 2), (3, 2), (3, 4), (2, 7), (2, 7), (3, 2), (3, 4), (5, 7), (4, 2), (4, 4), (6, 5), (5, 2), (7, 1), (7, 1), (7, 3), (7, 3), (7, 5), (7, 5), (7, 7), (7, 8), (7, 7), (8, 1)]\n",
      "9\n"
     ]
    }
   ],
   "source": [
    "def search_word_2(grid, word):\n",
    "    rows = len(grid)\n",
    "    cols = len(grid[0])\n",
    "    word_len = len(word)\n",
    "    directions = [(-1, -1), (-1, 1), (1, -1), (1, 1)]\n",
    "    found_positions = []\n",
    "\n",
    "    def is_valid(x, y):\n",
    "        return 0 <= x < rows and 0 <= y < cols\n",
    "\n",
    "    def search_from(x, y, dx, dy):\n",
    "        for i in range(word_len):\n",
    "            nx, ny = x + i * dx, y + i * dy\n",
    "            if not is_valid(nx, ny) or grid[nx][ny] != word[i]:\n",
    "                return False\n",
    "        return True\n",
    "\n",
    "    for r in range(rows):\n",
    "        for c in range(cols):\n",
    "            if grid[r][c] == word[0]:\n",
    "                for dx, dy in directions:\n",
    "                    if search_from(r, c, dx, dy):\n",
    "                        found_positions.append((r+dx, c+dy))\n",
    "\n",
    "    return found_positions\n",
    "\n",
    "# Example usage\n",
    "grid = [\n",
    "    list(\"MMMSXXMASM\"),\n",
    "    list(\"MSAMXMSMSA\"),\n",
    "    list(\"AMXSXMAAMM\"),\n",
    "    list(\"MSAMASMSMX\"),\n",
    "    list(\"XMASAMXAMM\"),\n",
    "    list(\"XXAMMXXAMA\"),\n",
    "    list(\"SMSMSASXSS\"),\n",
    "    list(\"SAXAMASAAA\"),\n",
    "    list(\"MAMMMXMMMM\"),\n",
    "    list(\"MXMXAXMASX\")\n",
    "]\n",
    "\n",
    "word = \"MAS\"\n",
    "positions = search_word_2(grid, word)\n",
    "print(positions)\n",
    "print(len(positions) - len(set(positions)))"
   ]
  },
  {
   "cell_type": "code",
   "execution_count": 27,
   "metadata": {},
   "outputs": [
    {
     "name": "stdout",
     "output_type": "stream",
     "text": [
      "1905\n"
     ]
    }
   ],
   "source": [
    "with open('input.txt') as f:\n",
    "    lines = f.readlines()\n",
    "    \n",
    "grid = []\n",
    "for line in lines:\n",
    "    grid.append(list(line.strip()))\n",
    "\n",
    "word = \"MAS\"\n",
    "positions = search_word_2(grid, word)\n",
    "print(len(positions) - len(set(positions)))"
   ]
  }
 ],
 "metadata": {
  "kernelspec": {
   "display_name": "base",
   "language": "python",
   "name": "python3"
  },
  "language_info": {
   "codemirror_mode": {
    "name": "ipython",
    "version": 3
   },
   "file_extension": ".py",
   "mimetype": "text/x-python",
   "name": "python",
   "nbconvert_exporter": "python",
   "pygments_lexer": "ipython3",
   "version": "3.11.5"
  }
 },
 "nbformat": 4,
 "nbformat_minor": 2
}
