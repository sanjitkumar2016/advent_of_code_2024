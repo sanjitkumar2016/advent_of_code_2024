{
 "cells": [
  {
   "cell_type": "markdown",
   "metadata": {},
   "source": [
    "#### Part One\n",
    "\n",
    "- For each line in input 2, create a dict that maps page number to index\n",
    "- Go through each rule in input 1 and ensure that the dict follows the rule\n",
    "- The left value must occur before the right in the page dict\n",
    "- If so, add the middle value to the total"
   ]
  },
  {
   "cell_type": "code",
   "execution_count": 12,
   "metadata": {},
   "outputs": [
    {
     "data": {
      "text/plain": [
       "5268"
      ]
     },
     "execution_count": 12,
     "metadata": {},
     "output_type": "execute_result"
    }
   ],
   "source": [
    "with open(\"input_1.txt\") as f:\n",
    "    rules_lines = f.readlines()\n",
    "\n",
    "with open(\"input_2.txt\") as f:\n",
    "    pages_lines = f.readlines()\n",
    "    \n",
    "total_1 = 0\n",
    "bad_pages_list = []\n",
    "\n",
    "for pages_line in pages_lines:\n",
    "    pages = pages_line.strip().split(\",\")\n",
    "    pages_dict = {}\n",
    "    for index, element in enumerate(pages):\n",
    "        pages_dict[element] = index\n",
    "    \n",
    "    for rules_line in rules_lines:\n",
    "        left, right = rules_line.strip().split(\"|\")\n",
    "        if left in pages_dict and right in pages_dict and pages_dict[left] > pages_dict[right]:\n",
    "            bad_pages_list.append(pages)\n",
    "            break\n",
    "    else:\n",
    "        total_1 += int(pages[len(pages) // 2])\n",
    "\n",
    "total_1"
   ]
  },
  {
   "cell_type": "markdown",
   "metadata": {},
   "source": [
    "#### Part Two\n",
    "\n",
    "- Add a line of code in the previous cell to append the bad pages for part 2\n",
    "- For every rule that does not work, swap left and right\n",
    "- Try all the rules again from the beginning\n",
    "- Add the middle to the new total"
   ]
  },
  {
   "cell_type": "code",
   "execution_count": 13,
   "metadata": {},
   "outputs": [
    {
     "data": {
      "text/plain": [
       "5799"
      ]
     },
     "execution_count": 13,
     "metadata": {},
     "output_type": "execute_result"
    }
   ],
   "source": [
    "total_2 = 0\n",
    "\n",
    "for i, bad_pages in enumerate(bad_pages_list):\n",
    "    pages_dict = {}\n",
    "    for index, element in enumerate(bad_pages):\n",
    "        pages_dict[element] = index\n",
    "    \n",
    "    flag = True\n",
    "    while flag:\n",
    "        for rules_line in rules_lines:\n",
    "            left, right = rules_line.strip().split(\"|\")\n",
    "            if left in pages_dict and right in pages_dict and pages_dict[left] > pages_dict[right]:\n",
    "                temp = bad_pages[pages_dict[left]]\n",
    "                bad_pages[pages_dict[left]] = bad_pages[pages_dict[right]]\n",
    "                bad_pages[pages_dict[right]] = temp\n",
    "                \n",
    "                temp = pages_dict[left]\n",
    "                pages_dict[left] = pages_dict[right]\n",
    "                pages_dict[right] = temp\n",
    "                break\n",
    "        else:\n",
    "            total_2 += int(bad_pages[len(bad_pages) // 2])\n",
    "            flag = False\n",
    "            break\n",
    "\n",
    "total_2"
   ]
  }
 ],
 "metadata": {
  "kernelspec": {
   "display_name": "Python 3",
   "language": "python",
   "name": "python3"
  },
  "language_info": {
   "codemirror_mode": {
    "name": "ipython",
    "version": 3
   },
   "file_extension": ".py",
   "mimetype": "text/x-python",
   "name": "python",
   "nbconvert_exporter": "python",
   "pygments_lexer": "ipython3",
   "version": "3.13.0"
  }
 },
 "nbformat": 4,
 "nbformat_minor": 2
}
