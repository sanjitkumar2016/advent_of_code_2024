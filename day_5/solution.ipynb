{
 "cells": [
  {
   "cell_type": "markdown",
   "metadata": {},
   "source": [
    "#### Part One\n",
    "\n",
    "- For each line in input 2, create a dict that maps page number to index\n",
    "- Go through each rule in input 1 and ensure that the dict follows the rule\n",
    "- The left value must occur before the right in the page dict\n",
    "- If so, add the middle value to the total"
   ]
  },
  {
   "cell_type": "code",
   "execution_count": null,
   "metadata": {},
   "outputs": [
    {
     "data": {
      "text/plain": [
       "5268"
      ]
     },
     "execution_count": 45,
     "metadata": {},
     "output_type": "execute_result"
    },
    {
     "ename": "",
     "evalue": "",
     "output_type": "error",
     "traceback": [
      "\u001b[1;31mThe Kernel crashed while executing code in the current cell or a previous cell. \n",
      "\u001b[1;31mPlease review the code in the cell(s) to identify a possible cause of the failure. \n",
      "\u001b[1;31mClick <a href='https://aka.ms/vscodeJupyterKernelCrash'>here</a> for more info. \n",
      "\u001b[1;31mView Jupyter <a href='command:jupyter.viewOutput'>log</a> for further details."
     ]
    }
   ],
   "source": [
    "with open(\"input_1.txt\") as f:\n",
    "    rules_lines = f.readlines()\n",
    "\n",
    "with open(\"input_2.txt\") as f:\n",
    "    pages_lines = f.readlines()\n",
    "    \n",
    "total_1 = 0\n",
    "bad_pages_list = []\n",
    "\n",
    "for pages_line in pages_lines:\n",
    "    pages = pages_line.strip().split(\",\")\n",
    "    pages_dict = {}\n",
    "    for index, element in enumerate(pages):\n",
    "        pages_dict[element] = index\n",
    "    \n",
    "    for rules_line in rules_lines:\n",
    "        left, right = rules_line.strip().split(\"|\")\n",
    "        if left in pages_dict and right in pages_dict and pages_dict[left] > pages_dict[right]:\n",
    "            bad_pages_list.append(pages)\n",
    "            break\n",
    "    else:\n",
    "        total_1 += int(pages[len(pages) // 2])\n",
    "\n",
    "total_1"
   ]
  },
  {
   "cell_type": "markdown",
   "metadata": {},
   "source": [
    "#### Part Two\n",
    "\n",
    "- Add a line of code in the previous cell to append the bad pages for part 2\n",
    "- Try various combinations with the rules until one works\n",
    "- Add the middle to the new total"
   ]
  },
  {
   "cell_type": "code",
   "execution_count": null,
   "metadata": {},
   "outputs": [
    {
     "data": {
      "text/plain": [
       "123"
      ]
     },
     "execution_count": 44,
     "metadata": {},
     "output_type": "execute_result"
    }
   ],
   "source": [
    "from itertools import permutations\n",
    "\n",
    "total_2 = 0\n",
    "\n",
    "for bad_pages in bad_pages_list:\n",
    "    pages_perms = list(permutations(bad_pages))[1:]\n",
    "    for pages_perm in pages_perms:\n",
    "        pages_dict = {}\n",
    "        for index, element in enumerate(pages_perm):\n",
    "            pages_dict[element] = index\n",
    "        \n",
    "        for rules_line in rules_lines:\n",
    "            left, right = rules_line.strip().split(\"|\")\n",
    "            if left in pages_dict and right in pages_dict and pages_dict[left] > pages_dict[right]:\n",
    "                break\n",
    "        else:\n",
    "            total_2 += int(pages_perm[len(pages_perm) // 2])\n",
    "            break\n",
    "\n",
    "total_2"
   ]
  }
 ],
 "metadata": {
  "kernelspec": {
   "display_name": "base",
   "language": "python",
   "name": "python3"
  },
  "language_info": {
   "codemirror_mode": {
    "name": "ipython",
    "version": 3
   },
   "file_extension": ".py",
   "mimetype": "text/x-python",
   "name": "python",
   "nbconvert_exporter": "python",
   "pygments_lexer": "ipython3",
   "version": "3.11.5"
  }
 },
 "nbformat": 4,
 "nbformat_minor": 2
}
