{
 "cells": [
  {
   "cell_type": "markdown",
   "metadata": {},
   "source": [
    "#### Part 1\n",
    "\n",
    "- Solve a systems of equations for A and B\n",
    "- For each possible answer, pick the one that has the lowest cost (3A + 1B)\n",
    "- Calculate total"
   ]
  },
  {
   "cell_type": "code",
   "execution_count": 61,
   "metadata": {},
   "outputs": [
    {
     "data": {
      "text/plain": [
       "39996"
      ]
     },
     "execution_count": 61,
     "metadata": {},
     "output_type": "execute_result"
    }
   ],
   "source": [
    "import numpy as np\n",
    "\n",
    "with open('input.txt', 'r') as f:\n",
    "    data = f.read().split('\\n\\n')\n",
    "\n",
    "output = 0\n",
    "for i, d in enumerate(data):\n",
    "    d = d.split()\n",
    "    a1 = int(d[2].split('+')[1][:-1])\n",
    "    a2 = int(d[3].split('+')[1])\n",
    "    b1 = int(d[6].split('+')[1][:-1])\n",
    "    b2 = int(d[7].split('+')[1])\n",
    "    x1 = int(d[-2].split('=')[1][:-1])\n",
    "    x2 = int(d[-1].split('=')[1])\n",
    "\n",
    "    buttons = np.array([[a1, b1], [a2, b2]])\n",
    "    prize = np.array([x1, x2])\n",
    "    solution = np.linalg.solve(buttons, prize)\n",
    "\n",
    "    A, B = solution\n",
    "    if A >= 0 and B >= 0 and np.isclose(A, round(A)) and np.isclose(B, round(B)):\n",
    "        if round(A) * a1 + round(B) * b1 == x1 and round(A) * a2 + round(B) * b2 == x2:\n",
    "            output += 3*round(A) + round(B)\n",
    "\n",
    "output\n"
   ]
  },
  {
   "cell_type": "markdown",
   "metadata": {},
   "source": [
    "#### Part 2\n",
    "\n",
    "Add 10000000000000 to prizes before calculating"
   ]
  },
  {
   "cell_type": "code",
   "execution_count": 62,
   "metadata": {},
   "outputs": [
    {
     "data": {
      "text/plain": [
       "73267584326867"
      ]
     },
     "execution_count": 62,
     "metadata": {},
     "output_type": "execute_result"
    }
   ],
   "source": [
    "import numpy as np\n",
    "\n",
    "with open('input.txt', 'r') as f:\n",
    "    data = f.read().split('\\n\\n')\n",
    "\n",
    "output = 0\n",
    "for i, d in enumerate(data):\n",
    "    d = d.split()\n",
    "    a1 = int(d[2].split('+')[1][:-1])\n",
    "    a2 = int(d[3].split('+')[1])\n",
    "    b1 = int(d[6].split('+')[1][:-1])\n",
    "    b2 = int(d[7].split('+')[1])\n",
    "    x1 = int(d[-2].split('=')[1][:-1]) + 10000000000000\n",
    "    x2 = int(d[-1].split('=')[1]) + 10000000000000\n",
    "\n",
    "    buttons = np.array([[a1, b1], [a2, b2]])\n",
    "    prize = np.array([x1, x2])\n",
    "    solution = np.linalg.solve(buttons, prize)\n",
    "\n",
    "    A, B = solution\n",
    "    if A >= 0 and B >= 0 and np.isclose(A, round(A)) and np.isclose(B, round(B)):\n",
    "        if round(A) * a1 + round(B) * b1 == x1 and round(A) * a2 + round(B) * b2 == x2:\n",
    "            output += 3*round(A) + round(B)\n",
    "\n",
    "output\n"
   ]
  }
 ],
 "metadata": {
  "kernelspec": {
   "display_name": "Python 3",
   "language": "python",
   "name": "python3"
  },
  "language_info": {
   "codemirror_mode": {
    "name": "ipython",
    "version": 3
   },
   "file_extension": ".py",
   "mimetype": "text/x-python",
   "name": "python",
   "nbconvert_exporter": "python",
   "pygments_lexer": "ipython3",
   "version": "3.13.0"
  }
 },
 "nbformat": 4,
 "nbformat_minor": 2
}
